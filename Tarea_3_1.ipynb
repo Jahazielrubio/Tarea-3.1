{
  "nbformat": 4,
  "nbformat_minor": 0,
  "metadata": {
    "colab": {
      "provenance": []
    },
    "kernelspec": {
      "name": "python3",
      "display_name": "Python 3"
    },
    "language_info": {
      "name": "python"
    }
  },
  "cells": [
    {
      "cell_type": "code",
      "source": [
        "import numpy as np\n",
        "\n",
        "def gauss_elimination(A, b):\n",
        "    n = len(b)\n",
        "    for i in range(n):\n",
        "        # Pivoteo parcial\n",
        "        max_row = i + np.argmax(np.abs(A[i:, i]))\n",
        "        if max_row != i:\n",
        "            A[[i, max_row]] = A[[max_row, i]]\n",
        "            b[[i, max_row]] = b[[max_row, i]]\n",
        "\n",
        "        # Eliminación hacia adelante\n",
        "        for j in range(i+1, n):\n",
        "            factor = A[j][i] / A[i][i]\n",
        "            A[j, i:] -= factor * A[i, i:]\n",
        "            b[j] -= factor * b[i]\n",
        "\n",
        "    # Sustitución regresiva\n",
        "    x = np.zeros(n)\n",
        "    for i in range(n-1, -1, -1):\n",
        "        x[i] = (b[i] - np.dot(A[i, i+1:], x[i+1:])) / A[i, i]\n",
        "    return x\n",
        "\n",
        "# Definición del sistema de ecuaciones\n",
        "A = np.array([[3, 2, -1, 4],\n",
        "              [5, -3, 2, -1],\n",
        "              [-1, 4, -2, 3],\n",
        "              [2, -1, 3, 5]], dtype=float)\n",
        "b = np.array([10, 5, -3, 8], dtype=float)\n",
        "\n",
        "# Resolución del sistema\n",
        "sol = gauss_elimination(A, b)\n",
        "\n",
        "# Imprimir la solución\n",
        "print(\"Solución del sistema:\")\n",
        "print(f\"x = {sol[0]}\")\n",
        "print(f\"y = {sol[1]}\")\n",
        "print(f\"z = {sol[2]}\")\n",
        "print(f\"w = {sol[3]}\")"
      ],
      "metadata": {
        "colab": {
          "base_uri": "https://localhost:8080/"
        },
        "id": "s-eaq0S86kx9",
        "outputId": "5e4028a5-f9c6-4b12-9a28-5ebfe224f2f8"
      },
      "execution_count": 1,
      "outputs": [
        {
          "output_type": "stream",
          "name": "stdout",
          "text": [
            "Solución del sistema:\n",
            "x = 0.22340425531914931\n",
            "y = -7.4680851063829765\n",
            "z = -7.117021276595743\n",
            "w = 4.287234042553191\n"
          ]
        }
      ]
    },
    {
      "cell_type": "code",
      "source": [
        "import numpy as np\n",
        "\n",
        "def gauss_elimination(A, b):\n",
        "    n = len(b)\n",
        "    for i in range(n):\n",
        "        # Pivoteo parcial\n",
        "        max_row = i + np.argmax(np.abs(A[i:, i]))\n",
        "        if max_row != i:\n",
        "            A[[i, max_row]] = A[[max_row, i]]\n",
        "            b[[i, max_row]] = b[[max_row, i]]\n",
        "\n",
        "        # Eliminación hacia adelante\n",
        "        for j in range(i+1, n):\n",
        "            factor = A[j][i] / A[i][i]\n",
        "            A[j, i:] -= factor * A[i, i:]\n",
        "            b[j] -= factor * b[i]\n",
        "\n",
        "    # Sustitución regresiva\n",
        "    x = np.zeros(n)\n",
        "    for i in range(n-1, -1, -1):\n",
        "        x[i] = (b[i] - np.dot(A[i, i+1:], x[i+1:])) / A[i, i]\n",
        "    return x\n",
        "\n",
        "# Definición del sistema de ecuaciones\n",
        "A = np.array([[6, -2, 3, -1, 2],\n",
        "              [-3, 5, -2, 4, -1],\n",
        "              [4, 3, 7, -5, 3],\n",
        "              [-2, 6, -3, 1, -4],\n",
        "              [1, -3, 2, -5, 6]], dtype=float)\n",
        "b = np.array([15, -6, 20, -4, 7], dtype=float)\n",
        "\n",
        "# Resolución del sistema\n",
        "sol = gauss_elimination(A, b)\n",
        "\n",
        "# Imprimir la solución\n",
        "print(\"Solución del sistema:\")\n",
        "print(f\"x = {sol[0]:.2f}\")\n",
        "print(f\"y = {sol[1]:.2f}\")\n",
        "print(f\"z = {sol[2]:.2f}\")\n",
        "print(f\"w = {sol[3]:.2f}\")\n",
        "print(f\"v = {sol[4]:.2f}\")"
      ],
      "metadata": {
        "colab": {
          "base_uri": "https://localhost:8080/"
        },
        "id": "yyoZ6Lo47H85",
        "outputId": "2e918def-1dd4-42ab-c9f9-4abc971075f4"
      },
      "execution_count": 2,
      "outputs": [
        {
          "output_type": "stream",
          "name": "stdout",
          "text": [
            "Solución del sistema:\n",
            "x = 2.19\n",
            "y = 0.87\n",
            "z = 0.62\n",
            "w = -0.48\n",
            "v = 0.63\n"
          ]
        }
      ]
    },
    {
      "cell_type": "code",
      "source": [
        "import numpy as np\n",
        "\n",
        "def gauss_elimination(A, b):\n",
        "    n = len(b)\n",
        "    for i in range(n):\n",
        "        # Pivoteo parcial\n",
        "        max_row = i + np.argmax(np.abs(A[i:, i]))\n",
        "        if max_row != i:\n",
        "            A[[i, max_row]] = A[[max_row, i]]\n",
        "            b[[i, max_row]] = b[[max_row, i]]\n",
        "\n",
        "        # Eliminación hacia adelante\n",
        "        for j in range(i+1, n):\n",
        "            factor = A[j][i] / A[i][i]\n",
        "            A[j, i:] -= factor * A[i, i:]\n",
        "            b[j] -= factor * b[i]\n",
        "\n",
        "    # Sustitución regresiva\n",
        "    x = np.zeros(n)\n",
        "    for i in range(n-1, -1, -1):\n",
        "        x[i] = (b[i] - np.dot(A[i, i+1:], x[i+1:])) / A[i, i]\n",
        "    return x\n",
        "\n",
        "# Definición del sistema de ecuaciones\n",
        "A = np.array([[1, 2, -3, 4, -1, 1],\n",
        "              [-2, 3, 5, -1, 2, -1],\n",
        "              [4, -1, 2, 6, -3, 1],\n",
        "              [-3, 5, -1, 2, 4, -1],\n",
        "              [2, -4, 6, -5, 1, 3],\n",
        "              [-5, 1, 4, -1, 2, -6]], dtype=float)\n",
        "b = np.array([7, -2, 10, 3, -8, 5], dtype=float)\n",
        "\n",
        "# Resolución del sistema\n",
        "sol = gauss_elimination(A, b)\n",
        "\n",
        "# Imprimir la solución\n",
        "print(\"Solución del sistema:\")\n",
        "print(f\"x = {sol[0]:.2f}\")\n",
        "print(f\"y = {sol[1]:.2f}\")\n",
        "print(f\"z = {sol[2]:.2f}\")\n",
        "print(f\"w = {sol[3]:.2f}\")\n",
        "print(f\"v = {sol[4]:.2f}\")\n",
        "print(f\"u = {sol[5]:.2f}\")"
      ],
      "metadata": {
        "colab": {
          "base_uri": "https://localhost:8080/"
        },
        "id": "6zvIOmn57liQ",
        "outputId": "9ec5593a-c9c5-46fa-ff5d-1fd96eb65133"
      },
      "execution_count": 3,
      "outputs": [
        {
          "output_type": "stream",
          "name": "stdout",
          "text": [
            "Solución del sistema:\n",
            "x = -8.46\n",
            "y = -3.34\n",
            "z = 0.98\n",
            "w = 4.51\n",
            "v = -2.22\n",
            "u = 4.82\n"
          ]
        }
      ]
    }
  ]
}